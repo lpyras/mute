{
 "cells": [
  {
   "cell_type": "markdown",
   "id": "3c61cb37-411f-4b82-a1a5-9cbeb1c0b371",
   "metadata": {},
   "source": [
    "# Example: Calculating Seasonal Variations\n",
    "\n",
    "This file demonstrates how to use MUTE to plot the seasonal variation in the total muon flux over the course of a year both at the surface and underground.\n",
    "\n",
    "## Import Packages"
   ]
  },
  {
   "cell_type": "code",
   "execution_count": 1,
   "id": "14b1de89-5923-4f8a-b8e8-745e0436232e",
   "metadata": {},
   "outputs": [],
   "source": [
    "import matplotlib.pyplot as plt\n",
    "import numpy as np\n",
    "import scipy.integrate as scii\n",
    "\n",
    "import mute.constants as mtc\n",
    "import mute.surface as mts\n",
    "import mute.underground as mtu"
   ]
  },
  {
   "cell_type": "markdown",
   "id": "b22f24a8-5e75-4051-9e07-1d7b5bcd7e3c",
   "metadata": {},
   "source": [
    "## Set the Constants"
   ]
  },
  {
   "cell_type": "code",
   "execution_count": 2,
   "id": "0a0164d5-6236-4b61-b110-1ca536f0c4d0",
   "metadata": {},
   "outputs": [],
   "source": [
    "mtc.set_verbose(1)\n",
    "mtc.set_output(True)\n",
    "mtc.set_lab(\"Example\")\n",
    "mtc.set_overburden(\"flat\")\n",
    "mtc.set_vertical_depth(1)\n",
    "mtc.set_medium(\"rock\")\n",
    "mtc.set_density(2.65)\n",
    "mtc.set_n_muon(100000)"
   ]
  },
  {
   "cell_type": "markdown",
   "id": "224e98c6-a6dd-4c3a-8029-af2b0fa175e5",
   "metadata": {},
   "source": [
    "## Calculate the Fluxes\n",
    "\n",
    "In order to calculate the seasonal variation, both the location and the month have to be set by specifying the arguments in the ``mts.calc_s_fluxes()`` function. Start by defining empty lists that will hold the total fluxes at the surface and underground for each of the 12 months. Then loop over all of the months and fill the lists."
   ]
  },
  {
   "cell_type": "code",
   "execution_count": 3,
   "id": "f099e9eb-278d-4a01-a1f5-3a69b81e61a5",
   "metadata": {},
   "outputs": [
    {
     "name": "stdout",
     "output_type": "stream",
     "text": [
      "Calculating surface fluxes for January.\n"
     ]
    },
    {
     "name": "stderr",
     "output_type": "stream",
     "text": [
      "100%|██████████████████████████████████████████████| 20/20 [01:45<00:00,  5.28s/it]\n"
     ]
    },
    {
     "name": "stdout",
     "output_type": "stream",
     "text": [
      "Calculating surface fluxes for February.\n"
     ]
    },
    {
     "name": "stderr",
     "output_type": "stream",
     "text": [
      "100%|██████████████████████████████████████████████| 20/20 [01:44<00:00,  5.24s/it]\n"
     ]
    },
    {
     "name": "stdout",
     "output_type": "stream",
     "text": [
      "Calculating surface fluxes for March.\n"
     ]
    },
    {
     "name": "stderr",
     "output_type": "stream",
     "text": [
      "100%|██████████████████████████████████████████████| 20/20 [01:43<00:00,  5.19s/it]\n"
     ]
    },
    {
     "name": "stdout",
     "output_type": "stream",
     "text": [
      "Calculating surface fluxes for April.\n"
     ]
    },
    {
     "name": "stderr",
     "output_type": "stream",
     "text": [
      "100%|██████████████████████████████████████████████| 20/20 [01:43<00:00,  5.16s/it]\n"
     ]
    },
    {
     "name": "stdout",
     "output_type": "stream",
     "text": [
      "Calculating surface fluxes for May.\n"
     ]
    },
    {
     "name": "stderr",
     "output_type": "stream",
     "text": [
      "100%|██████████████████████████████████████████████| 20/20 [01:43<00:00,  5.18s/it]\n"
     ]
    },
    {
     "name": "stdout",
     "output_type": "stream",
     "text": [
      "Calculating surface fluxes for June.\n"
     ]
    },
    {
     "name": "stderr",
     "output_type": "stream",
     "text": [
      "100%|██████████████████████████████████████████████| 20/20 [01:43<00:00,  5.17s/it]\n"
     ]
    },
    {
     "name": "stdout",
     "output_type": "stream",
     "text": [
      "Calculating surface fluxes for July.\n"
     ]
    },
    {
     "name": "stderr",
     "output_type": "stream",
     "text": [
      "100%|██████████████████████████████████████████████| 20/20 [01:43<00:00,  5.15s/it]\n"
     ]
    },
    {
     "name": "stdout",
     "output_type": "stream",
     "text": [
      "Calculating surface fluxes for August.\n"
     ]
    },
    {
     "name": "stderr",
     "output_type": "stream",
     "text": [
      "100%|██████████████████████████████████████████████| 20/20 [01:42<00:00,  5.15s/it]\n"
     ]
    },
    {
     "name": "stdout",
     "output_type": "stream",
     "text": [
      "Calculating surface fluxes for September.\n"
     ]
    },
    {
     "name": "stderr",
     "output_type": "stream",
     "text": [
      "100%|██████████████████████████████████████████████| 20/20 [01:43<00:00,  5.17s/it]\n"
     ]
    },
    {
     "name": "stdout",
     "output_type": "stream",
     "text": [
      "Calculating surface fluxes for October.\n"
     ]
    },
    {
     "name": "stderr",
     "output_type": "stream",
     "text": [
      "100%|██████████████████████████████████████████████| 20/20 [01:44<00:00,  5.21s/it]\n"
     ]
    },
    {
     "name": "stdout",
     "output_type": "stream",
     "text": [
      "Calculating surface fluxes for November.\n"
     ]
    },
    {
     "name": "stderr",
     "output_type": "stream",
     "text": [
      "100%|██████████████████████████████████████████████| 20/20 [01:45<00:00,  5.26s/it]\n"
     ]
    },
    {
     "name": "stdout",
     "output_type": "stream",
     "text": [
      "Calculating surface fluxes for December.\n"
     ]
    },
    {
     "name": "stderr",
     "output_type": "stream",
     "text": [
      "100%|██████████████████████████████████████████████| 20/20 [01:45<00:00,  5.30s/it]\n"
     ]
    }
   ],
   "source": [
    "all_s_tot_fluxes = []\n",
    "all_u_tot_fluxes = []\n",
    "\n",
    "for m in range(len(mtc.MONTHS)):\n",
    "    \n",
    "    print(f\"Calculating surface fluxes for {mtc.MONTHS[m]}.\")\n",
    "    \n",
    "    # Calculate surface flux matrices at Gran Sasso for each month\n",
    "    # Then use them to calculate the total surface and underground fluxes\n",
    "    \n",
    "    s_fluxes   = mts.calc_s_fluxes(atmosphere = \"MSIS00\", location = \"SanGrasso\", month = mtc.MONTHS[m], force = True)\n",
    "    s_tot_flux = mts.calc_s_tot_flux(s_fluxes = s_fluxes)\n",
    "    u_tot_flux = mtu.calc_u_tot_flux(s_fluxes = s_fluxes)\n",
    "    \n",
    "    # Fill empty lists\n",
    "    \n",
    "    all_s_tot_fluxes.append(s_tot_flux)\n",
    "    all_u_tot_fluxes.append(u_tot_flux)"
   ]
  },
  {
   "cell_type": "markdown",
   "id": "3a745435-1403-4136-b5d7-f3fc74733e98",
   "metadata": {},
   "source": [
    "## Plot the Results\n",
    "\n",
    "Plot the ratio of the total fluxes to their means so that the shapes of the surface and underground variations can be compared to each other."
   ]
  },
  {
   "cell_type": "code",
   "execution_count": 4,
   "id": "4fb64a7e-8f32-4282-8532-01adefa0321b",
   "metadata": {},
   "outputs": [
    {
     "data": {
      "image/png": "[encoded data removed]",
      "text/plain": [
       "<Figure size 720x360 with 1 Axes>"
      ]
     },
     "metadata": {
      "needs_background": "light"
     },
     "output_type": "display_data"
    }
   ],
   "source": [
    "fig = plt.figure(figsize = (10, 5))\n",
    "ax  = fig.add_subplot(111)\n",
    "\n",
    "ax.plot(all_s_tot_fluxes/np.mean(all_s_tot_fluxes), color = \"red\", lw = 3, ls = \"-\", label = \"Surface Flux\")\n",
    "ax.plot(all_u_tot_fluxes/np.mean(all_u_tot_fluxes), color = \"blue\", lw = 3, ls = \"--\", label = \"Underground Flux\")\n",
    "\n",
    "ax.set_xlabel(\"Month\", fontsize = 23)\n",
    "ax.set_ylabel(r\"$\\Phi_{tot}/\\langle\\Phi_{tot}\\rangle$\", fontsize = 23)\n",
    "ax.tick_params(axis = \"both\", which = \"major\", labelsize = 18)\n",
    "ax.set_xlim([0, 11])\n",
    "ax.set_xticks(np.linspace(0, 11, 12), labels = mtc.MONTHS_SNAMES)\n",
    "ax.grid(axis = \"x\")\n",
    "plt.legend(frameon = False, fontsize = 16)\n",
    "\n",
    "plt.show()"
   ]
  }
 ],
 "metadata": {
  "kernelspec": {
   "display_name": "Python 3 (ipykernel)",
   "language": "python",
   "name": "python3"
  },
  "language_info": {
   "codemirror_mode": {
    "name": "ipython",
    "version": 3
   },
   "file_extension": ".py",
   "mimetype": "text/x-python",
   "name": "python",
   "nbconvert_exporter": "python",
   "pygments_lexer": "ipython3",
   "version": "3.8.10"
  }
 },
 "nbformat": 4,
 "nbformat_minor": 5
}
