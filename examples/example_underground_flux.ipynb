{
 "cells": [
  {
   "cell_type": "markdown",
   "metadata": {},
   "source": [
    "# Example: Calculating Underground Fluxes\n",
    "\n",
    "This file demonstrates how to use MUTE to calculate underground fluxes for a lab located 3.7 km.w.e. under rock.\n",
    "\n",
    "## Import Packages"
   ]
  },
  {
   "cell_type": "code",
   "execution_count": 1,
   "metadata": {},
   "outputs": [],
   "source": [
    "import numpy as np\n",
    "\n",
    "import mute.constants as mtc\n",
    "import mute.surface as mts\n",
    "import mute.propagation as mtp\n",
    "import mute.underground as mtu"
   ]
  },
  {
   "cell_type": "markdown",
   "metadata": {},
   "source": [
    "## Set the Constants"
   ]
  },
  {
   "cell_type": "code",
   "execution_count": 2,
   "metadata": {},
   "outputs": [],
   "source": [
    "mtc.set_verbose(2)\n",
    "mtc.set_output(True)\n",
    "mtc.set_lab(\"Example\")\n",
    "mtc.set_overburden(\"flat\")\n",
    "mtc.set_vertical_depth(3.7)\n",
    "mtc.set_medium(\"rock\")\n",
    "mtc.set_density(2.65)\n",
    "mtc.set_n_muon(100000)"
   ]
  },
  {
   "cell_type": "markdown",
   "metadata": {},
   "source": [
    "## Check the Slant Depths\n",
    "\n",
    "Check the number and value of the slant depths that the underground fluxes will be calculated with. Because the vertical depth was set to ``3.7`` above, the slant depths should start at 3.7 km.w.e. The number of slant depths should be reduced from the default 28 to 22."
   ]
  },
  {
   "cell_type": "code",
   "execution_count": 3,
   "metadata": {},
   "outputs": [
    {
     "name": "stdout",
     "output_type": "stream",
     "text": [
      "[ 3.7  4.   4.5  5.   5.5  6.   6.5  7.   7.5  8.   8.5  9.   9.5 10.\n",
      " 10.5 11.  11.5 12.  12.5 13.  13.5 14. ]\n",
      "22\n"
     ]
    }
   ],
   "source": [
    "print(mtc.slant_depths)\n",
    "print(len(mtc.slant_depths))"
   ]
  },
  {
   "cell_type": "markdown",
   "metadata": {},
   "source": [
    "The underground fluxes will be calculated for the zenith angles corresponding to these slant depths. The correspondence is given by this equation:\n",
    "\n",
    "$$\\theta=\\arccos\\left(\\frac{h}{X}\\right)=\\arccos\\left(\\frac{3.7\\ \\mathrm{km.w.e.}}{X}\\right)$$\n",
    "\n",
    "## Calculate the Underground Fluxes\n",
    "\n",
    "The ``mtu.calc_u_fluxes()`` function will return a matrix of shape ``(91, 22)`` for the 91 energies in the grid given by ``mtc.ENERGIES``, and the 22 angles corresponding to the slant depths above."
   ]
  },
  {
   "cell_type": "code",
   "execution_count": 4,
   "metadata": {},
   "outputs": [
    {
     "name": "stdout",
     "output_type": "stream",
     "text": [
      "Calculating underground fluxes.\n",
      "Loading surface fluxes for USStd using GSF and SIBYLL-2.3c.\n",
      "Loaded surface fluxes.\n",
      "Loading survival probabilities from data/survival_probabilities/rock_2.65_100000_Survival_Probabilities.txt.\n",
      "Loaded survival probabilities.\n",
      "Finished calculating underground fluxes.\n",
      "Underground fluxes written to data/underground/Example_Underground_Fluxes.txt.\n",
      "[[0.00000000e+00 0.00000000e+00 0.00000000e+00 ... 0.00000000e+00\n",
      "  0.00000000e+00 0.00000000e+00]\n",
      " [1.67019874e-14 5.77016925e-14 2.88508321e-14 ... 3.45472040e-18\n",
      "  3.05927169e-20 7.65680563e-21]\n",
      " [1.59920131e-13 1.43532627e-13 3.68028308e-14 ... 1.78156633e-18\n",
      "  5.58709559e-18 2.29089741e-19]\n",
      " ...\n",
      " [3.63895510e-35 0.00000000e+00 0.00000000e+00 ... 0.00000000e+00\n",
      "  0.00000000e+00 0.00000000e+00]\n",
      " [0.00000000e+00 0.00000000e+00 0.00000000e+00 ... 0.00000000e+00\n",
      "  0.00000000e+00 0.00000000e+00]\n",
      " [0.00000000e+00 0.00000000e+00 0.00000000e+00 ... 0.00000000e+00\n",
      "  0.00000000e+00 0.00000000e+00]]\n",
      "(91, 22)\n"
     ]
    }
   ],
   "source": [
    "u_fluxes = mtu.calc_u_fluxes()\n",
    "\n",
    "print(u_fluxes)\n",
    "print(u_fluxes.shape)"
   ]
  },
  {
   "cell_type": "markdown",
   "metadata": {},
   "source": [
    "If the full tensor is needed, this can be obtained by setting ``full_tensor`` to ``True`` in the function call. This will return a three-dimensional array of shape ``(28, 91, 20)``, for the default slant depths, energies, and surface flux zenith angles given by ``mtc._SLANT_DEPTHS``, ``mtc.ENERGIES``, and ``mtc.ANGLES_FOR_S_FLUXES`` respectively. The output file will also contain the full tensor."
   ]
  },
  {
   "cell_type": "code",
   "execution_count": 5,
   "metadata": {},
   "outputs": [
    {
     "name": "stdout",
     "output_type": "stream",
     "text": [
      "Calculating underground fluxes.\n",
      "Loading surface fluxes for USStd using GSF and SIBYLL-2.3c.\n",
      "Loaded surface fluxes.\n",
      "Survival probabilities already loaded for rock with density 2.65 gcm^-3 and 100000 muons.\n",
      "Finished calculating underground fluxes.\n",
      "Underground fluxes written to data/underground/Example_Underground_Fluxes.txt.\n",
      "[[0.00000000e+00 0.00000000e+00 0.00000000e+00 0.00000000e+00\n",
      "  0.00000000e+00]\n",
      " [5.40109447e-11 5.40751625e-11 5.42782299e-11 5.46175089e-11\n",
      "  5.50734247e-11]\n",
      " [1.34487970e-10 1.34649717e-10 1.35160145e-10 1.36013422e-10\n",
      "  1.37161474e-10]\n",
      " [2.13325466e-10 2.13579177e-10 2.14381511e-10 2.15722044e-10\n",
      "  2.17523509e-10]\n",
      " [2.25263220e-10 2.25532132e-10 2.26381881e-10 2.27801891e-10\n",
      "  2.29710915e-10]]\n",
      "(28, 91, 20)\n"
     ]
    }
   ],
   "source": [
    "u_fluxes_full = mtu.calc_u_fluxes(full_tensor = True)\n",
    "\n",
    "print(u_fluxes_full[0, :5, :5])\n",
    "print(u_fluxes_full.shape)"
   ]
  },
  {
   "cell_type": "markdown",
   "metadata": {},
   "source": [
    "## Calculating Fluxes from Pre-Calculated Matrices\n",
    "\n",
    "If the code already has a surface flux matrix and / or survival probability tensor defined, they can be passed directly into the ``mtu.calc_u_fluxes()`` function. This is especially useful when dealing with multiple surface flux matrices and / or survival probability tensors in the same file, like when calculating various quantities by looping over variables. For example, to calculate both the surface fluxes and underground fluxes for different locations, the following can be done:"
   ]
  },
  {
   "cell_type": "code",
   "execution_count": 6,
   "metadata": {},
   "outputs": [
    {
     "name": "stdout",
     "output_type": "stream",
     "text": [
      "Survival probabilities already loaded for rock with density 2.65 gcm^-3 and 100000 muons.\n",
      "Calculating surface fluxes for SoudanMine using GSF and SIBYLL-2.3c.\n",
      "MCEqRun::set_interaction_model(): SIBYLL23C\n",
      "MCEqRun::set_density_model(): Setting density profile to CORSIKA ('BK_USStd', None)\n",
      "MCEqRun::set_primary_model(): GlobalSplineFitBeta \n",
      "MCEqRun::set_density_model(): Setting density profile to MSIS00 ('SoudanMine', 'January')\n"
     ]
    },
    {
     "name": "stderr",
     "output_type": "stream",
     "text": [
      "100%|██████████████████████████████████████████████| 20/20 [01:44<00:00,  5.24s/it]\n"
     ]
    },
    {
     "name": "stdout",
     "output_type": "stream",
     "text": [
      "Finished calculating surface fluxes.\n",
      "Surface fluxes written to data/surface/Surface_Fluxes_SoudanMine_January_SIBYLL-2.3c_GSF.txt.\n",
      "Calculating underground fluxes.\n",
      "Finished calculating underground fluxes.\n",
      "Underground fluxes written to data/underground/Example_Underground_Fluxes.txt.\n",
      "Calculating surface fluxes for SanGrasso using GSF and SIBYLL-2.3c.\n",
      "MCEqRun::set_interaction_model(): SIBYLL23C\n",
      "MCEqRun::set_density_model(): Setting density profile to CORSIKA ('BK_USStd', None)\n",
      "MCEqRun::set_primary_model(): GlobalSplineFitBeta \n",
      "MCEqRun::set_density_model(): Setting density profile to MSIS00 ('SanGrasso', 'January')\n"
     ]
    },
    {
     "name": "stderr",
     "output_type": "stream",
     "text": [
      "100%|██████████████████████████████████████████████| 20/20 [01:45<00:00,  5.29s/it]\n"
     ]
    },
    {
     "name": "stdout",
     "output_type": "stream",
     "text": [
      "Finished calculating surface fluxes.\n",
      "Surface fluxes written to data/surface/Surface_Fluxes_SanGrasso_January_SIBYLL-2.3c_GSF.txt.\n",
      "Calculating underground fluxes.\n",
      "Finished calculating underground fluxes.\n",
      "Underground fluxes written to data/underground/Example_Underground_Fluxes.txt.\n",
      "Calculating surface fluxes for Tokyo using GSF and SIBYLL-2.3c.\n",
      "MCEqRun::set_interaction_model(): SIBYLL23C\n",
      "MCEqRun::set_density_model(): Setting density profile to CORSIKA ('BK_USStd', None)\n",
      "MCEqRun::set_primary_model(): GlobalSplineFitBeta \n",
      "MCEqRun::set_density_model(): Setting density profile to MSIS00 ('Tokyo', 'January')\n"
     ]
    },
    {
     "name": "stderr",
     "output_type": "stream",
     "text": [
      "100%|██████████████████████████████████████████████| 20/20 [01:44<00:00,  5.24s/it]"
     ]
    },
    {
     "name": "stdout",
     "output_type": "stream",
     "text": [
      "Finished calculating surface fluxes.\n",
      "Surface fluxes written to data/surface/Surface_Fluxes_Tokyo_January_SIBYLL-2.3c_GSF.txt.\n",
      "Calculating underground fluxes.\n",
      "Finished calculating underground fluxes.\n",
      "Underground fluxes written to data/underground/Example_Underground_Fluxes.txt.\n"
     ]
    },
    {
     "name": "stderr",
     "output_type": "stream",
     "text": [
      "\n"
     ]
    }
   ],
   "source": [
    "locations = [\"SoudanMine\", \"SanGrasso\", \"Tokyo\"]\n",
    "\n",
    "all_s_fluxes = []\n",
    "all_u_fluxes = []\n",
    "\n",
    "sp_tensor = mtp.load_survival_probability_tensor_from_file()\n",
    "\n",
    "for loc in locations:\n",
    "    \n",
    "    s_fluxes = mts.calc_s_fluxes(atmosphere = \"MSIS00\", location = loc, month = \"January\")\n",
    "    u_fluxes = mtu.calc_u_fluxes(s_fluxes = s_fluxes, survival_probability_tensor = sp_tensor)\n",
    "    \n",
    "    all_s_fluxes.append(s_fluxes)\n",
    "    all_u_fluxes.append(u_fluxes)"
   ]
  },
  {
   "cell_type": "markdown",
   "metadata": {},
   "source": [
    "Like this, the loop will not have to be broken to calculate the underground fluxes, and the surface fluxes will not have to be calculated again inside the ``mtu.calc_u_fluxes()`` function like they are in the ``mts.calc_s_fluxes()`` function, because they are being passed into it directly.\n",
    "\n",
    "The functions for surface intensities and total fluxes can take ``s_fluxes`` matrices in as well, and the functions for underground intensities and total fluxes can take in both ``s_fluxes`` and ``survival_probability_tensor`` arguments."
   ]
  }
 ],
 "metadata": {
  "kernelspec": {
   "display_name": "Python 3 (ipykernel)",
   "language": "python",
   "name": "python3"
  },
  "language_info": {
   "codemirror_mode": {
    "name": "ipython",
    "version": 3
   },
   "file_extension": ".py",
   "mimetype": "text/x-python",
   "name": "python",
   "nbconvert_exporter": "python",
   "pygments_lexer": "ipython3",
   "version": "3.8.10"
  }
 },
 "nbformat": 4,
 "nbformat_minor": 4
}
